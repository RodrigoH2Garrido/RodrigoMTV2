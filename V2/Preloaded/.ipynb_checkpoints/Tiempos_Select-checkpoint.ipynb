{
 "cells": [
  {
   "cell_type": "code",
   "execution_count": 38,
   "id": "b9ac4870-c09b-4884-b5ff-64b982b84275",
   "metadata": {},
   "outputs": [],
   "source": [
    "import time\n",
    "from pymysql import connect\n",
    "from pymysql.cursors import DictCursor\n",
    "\n",
    "n = 2\n",
    "response = []"
   ]
  },
  {
   "cell_type": "code",
   "execution_count": 39,
   "id": "933d38f2-e678-4120-8c29-ed8da2257524",
   "metadata": {},
   "outputs": [],
   "source": [
    "connection = connect (host='127.0.0.1', port=3307,\n",
    "                     user='rodrigo_docker1',password='Password123#@!',\n",
    "                     db='rodrigo_docker1',\n",
    "                     cursorclass=DictCursor)\n"
   ]
  },
  {
   "cell_type": "code",
   "execution_count": 40,
   "id": "d6d306fe-43b2-4021-beb8-19c085e62405",
   "metadata": {},
   "outputs": [
    {
     "name": "stdout",
     "output_type": "stream",
     "text": [
      "[0.12804658299955918]\n",
      "[0.12804658299955918, 0.09919780899963371]\n",
      "[0.12804658299955918, 0.09919780899963371, 0.0730153850008719]\n",
      "['id', 'place', 'points', 'lat', 'lng', 'zoom']\n",
      "6136\n"
     ]
    }
   ],
   "source": [
    "while n >= 0:\n",
    "    start = time.perf_counter()\n",
    "    cursor = connection.cursor()\n",
    "    cursor.execute(\"select * from locations\")\n",
    "   \n",
    "    end = time.perf_counter()\n",
    "    response.append(end-start)\n",
    "    print(response)\n",
    "    n = n-1\n",
    "\n",
    "columnas = [ column[0] for column in cursor.description]\n",
    "print(columnas)\n",
    "\n",
    "res = [row for row in cursor]\n",
    "print(len(res))\n",
    "#for i in res:\n",
    "#    print(i)"
   ]
  },
  {
   "cell_type": "code",
   "execution_count": 41,
   "id": "e6ebe8a5-4df3-4598-beee-36f5373dd93b",
   "metadata": {},
   "outputs": [
    {
     "name": "stdout",
     "output_type": "stream",
     "text": [
      "Promedio 0.10008659233335493\n"
     ]
    }
   ],
   "source": [
    "suma = 0\n",
    "for i in response:\n",
    "    suma += i\n",
    "    \n",
    "promedio = suma/len(response)\n",
    "\n",
    "print('Promedio', promedio)"
   ]
  },
  {
   "cell_type": "code",
   "execution_count": null,
   "id": "45948fb0-63e5-408a-8a20-58c445c0dfd3",
   "metadata": {},
   "outputs": [],
   "source": []
  }
 ],
 "metadata": {
  "kernelspec": {
   "display_name": "Python 3 (ipykernel)",
   "language": "python",
   "name": "python3"
  },
  "language_info": {
   "codemirror_mode": {
    "name": "ipython",
    "version": 3
   },
   "file_extension": ".py",
   "mimetype": "text/x-python",
   "name": "python",
   "nbconvert_exporter": "python",
   "pygments_lexer": "ipython3",
   "version": "3.9.5"
  }
 },
 "nbformat": 4,
 "nbformat_minor": 5
}
