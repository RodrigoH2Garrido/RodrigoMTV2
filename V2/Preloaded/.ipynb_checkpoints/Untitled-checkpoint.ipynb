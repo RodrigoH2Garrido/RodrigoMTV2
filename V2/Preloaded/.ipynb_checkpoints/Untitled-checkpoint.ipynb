{
 "cells": [
  {
   "cell_type": "code",
   "execution_count": null,
   "id": "b9ac4870-c09b-4884-b5ff-64b982b84275",
   "metadata": {},
   "outputs": [],
   "source": [
    "import time\n",
    "from pymysql import connect\n",
    "from pymysql.cursors import DictCursor\n",
    "\n",
    "n = 2\n",
    "response = []"
   ]
  },
  {
   "cell_type": "code",
   "execution_count": null,
   "id": "933d38f2-e678-4120-8c29-ed8da2257524",
   "metadata": {},
   "outputs": [],
   "source": [
    "while n >= 0:\n",
    "    connection = connect (host='127.0.0.1', port=3307,\n",
    "                         user='rodrigo_docker1',password='Password123#@!',\n",
    "                         db='rodrigo_docker1',\n",
    "                         cursorclass=DictCursor)\n",
    "    print(connection)"
   ]
  },
  {
   "cell_type": "code",
   "execution_count": null,
   "id": "d6d306fe-43b2-4021-beb8-19c085e62405",
   "metadata": {},
   "outputs": [],
   "source": [
    "start = time.perf_counter()\n",
    "cursor = connection.cursor()\n",
    "cursor.execute(\"SELECT * FROM locations\")\n",
    "end = time.perf_counter()\n",
    "print(end-start)"
   ]
  },
  {
   "cell_type": "code",
   "execution_count": null,
   "id": "e6ebe8a5-4df3-4598-beee-36f5373dd93b",
   "metadata": {},
   "outputs": [],
   "source": []
  },
  {
   "cell_type": "code",
   "execution_count": null,
   "id": "45948fb0-63e5-408a-8a20-58c445c0dfd3",
   "metadata": {},
   "outputs": [],
   "source": []
  }
 ],
 "metadata": {
  "kernelspec": {
   "display_name": "Python 3 (ipykernel)",
   "language": "python",
   "name": "python3"
  },
  "language_info": {
   "codemirror_mode": {
    "name": "ipython",
    "version": 3
   },
   "file_extension": ".py",
   "mimetype": "text/x-python",
   "name": "python",
   "nbconvert_exporter": "python",
   "pygments_lexer": "ipython3",
   "version": "3.9.5"
  }
 },
 "nbformat": 4,
 "nbformat_minor": 5
}
